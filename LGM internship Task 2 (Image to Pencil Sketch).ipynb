{
 "cells": [
  {
   "cell_type": "markdown",
   "id": "934d076d",
   "metadata": {},
   "source": [
    "# LGMVIP - DATA SCIENCE INTERN  "
   ]
  },
  {
   "cell_type": "markdown",
   "id": "597dc20a",
   "metadata": {},
   "source": [
    "# TASK 2 (Image to Pencil Sketch with Python)"
   ]
  },
  {
   "cell_type": "markdown",
   "id": "56f75ef7",
   "metadata": {},
   "source": [
    "# Author : Kaustuk Kale"
   ]
  },
  {
   "cell_type": "markdown",
   "id": "98c4c4d0",
   "metadata": {},
   "source": [
    "# Import the Required Libraries "
   ]
  },
  {
   "cell_type": "code",
   "execution_count": 1,
   "id": "4c4ee96e",
   "metadata": {},
   "outputs": [],
   "source": [
    "import cv2"
   ]
  },
  {
   "cell_type": "markdown",
   "id": "9dc9732a",
   "metadata": {},
   "source": [
    "# Reading the image"
   ]
  },
  {
   "cell_type": "code",
   "execution_count": 2,
   "id": "2eaf8b36",
   "metadata": {},
   "outputs": [
    {
     "data": {
      "text/plain": [
       "-1"
      ]
     },
     "execution_count": 2,
     "metadata": {},
     "output_type": "execute_result"
    }
   ],
   "source": [
    "image=cv2.imread(\"dog1.jpg\")\n",
    "cv2.imshow(\"Dog\",image)\n",
    "cv2.waitKey(0)"
   ]
  },
  {
   "cell_type": "markdown",
   "id": "ddbf1754",
   "metadata": {},
   "source": [
    "# Coverting the image to grayscale image"
   ]
  },
  {
   "cell_type": "code",
   "execution_count": 3,
   "id": "0ca41598",
   "metadata": {},
   "outputs": [
    {
     "data": {
      "text/plain": [
       "-1"
      ]
     },
     "execution_count": 3,
     "metadata": {},
     "output_type": "execute_result"
    }
   ],
   "source": [
    "gray_image = cv2.cvtColor(image, cv2.COLOR_BGR2GRAY)\n",
    "cv2.imshow(\"New Dog\", gray_image)\n",
    "cv2.waitKey(0)"
   ]
  },
  {
   "cell_type": "markdown",
   "id": "a044556d",
   "metadata": {},
   "source": [
    "# Inverting the grayscale image"
   ]
  },
  {
   "cell_type": "code",
   "execution_count": 4,
   "id": "0a55844d",
   "metadata": {},
   "outputs": [
    {
     "data": {
      "text/plain": [
       "-1"
      ]
     },
     "execution_count": 4,
     "metadata": {},
     "output_type": "execute_result"
    }
   ],
   "source": [
    "inverted_image = 255 - gray_image\n",
    "cv2.imshow(\"Inverted\", inverted_image)\n",
    "cv2.waitKey()\n"
   ]
  },
  {
   "cell_type": "markdown",
   "id": "b06c9128",
   "metadata": {},
   "source": [
    "# Converting to blurry image"
   ]
  },
  {
   "cell_type": "code",
   "execution_count": 5,
   "id": "a53ea8f8",
   "metadata": {},
   "outputs": [],
   "source": [
    "blurred = cv2.GaussianBlur(inverted_image, (21, 21), 0)\n"
   ]
  },
  {
   "cell_type": "markdown",
   "id": "9262035c",
   "metadata": {},
   "source": [
    "# Converting to Pencil Sketch Image"
   ]
  },
  {
   "cell_type": "code",
   "execution_count": 6,
   "id": "c0185d68",
   "metadata": {},
   "outputs": [
    {
     "data": {
      "text/plain": [
       "-1"
      ]
     },
     "execution_count": 6,
     "metadata": {},
     "output_type": "execute_result"
    }
   ],
   "source": [
    "inverted_blurred = 255 - blurred\n",
    "pencil_sketch = cv2.divide(gray_image, inverted_blurred, scale=256.0)\n",
    "cv2.imshow(\"Sketch\", pencil_sketch)\n",
    "cv2.waitKey(0)"
   ]
  },
  {
   "cell_type": "code",
   "execution_count": 7,
   "id": "95abe878",
   "metadata": {},
   "outputs": [
    {
     "data": {
      "text/plain": [
       "-1"
      ]
     },
     "execution_count": 7,
     "metadata": {},
     "output_type": "execute_result"
    }
   ],
   "source": [
    "cv2.imshow(\"original image\", image)\n",
    "cv2.imshow(\"pencil sketch\", pencil_sketch)\n",
    "cv2.waitKey(0)"
   ]
  },
  {
   "cell_type": "code",
   "execution_count": null,
   "id": "fee5696b",
   "metadata": {},
   "outputs": [],
   "source": []
  }
 ],
 "metadata": {
  "kernelspec": {
   "display_name": "Python 3",
   "language": "python",
   "name": "python3"
  },
  "language_info": {
   "codemirror_mode": {
    "name": "ipython",
    "version": 3
   },
   "file_extension": ".py",
   "mimetype": "text/x-python",
   "name": "python",
   "nbconvert_exporter": "python",
   "pygments_lexer": "ipython3",
   "version": "3.9.4"
  }
 },
 "nbformat": 4,
 "nbformat_minor": 5
}
